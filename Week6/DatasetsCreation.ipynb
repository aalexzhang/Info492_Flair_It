{
 "cells": [
  {
   "cell_type": "code",
   "execution_count": 20,
   "metadata": {},
   "outputs": [],
   "source": [
    "import pandas as pd\n",
    "import numpy as np"
   ]
  },
  {
   "cell_type": "code",
   "execution_count": 2,
   "metadata": {},
   "outputs": [
    {
     "data": {
      "text/html": [
       "<div>\n",
       "<style scoped>\n",
       "    .dataframe tbody tr th:only-of-type {\n",
       "        vertical-align: middle;\n",
       "    }\n",
       "\n",
       "    .dataframe tbody tr th {\n",
       "        vertical-align: top;\n",
       "    }\n",
       "\n",
       "    .dataframe thead th {\n",
       "        text-align: right;\n",
       "    }\n",
       "</style>\n",
       "<table border=\"1\" class=\"dataframe\">\n",
       "  <thead>\n",
       "    <tr style=\"text-align: right;\">\n",
       "      <th></th>\n",
       "      <th>title</th>\n",
       "      <th>selftext</th>\n",
       "      <th>link_flair_text</th>\n",
       "      <th>id</th>\n",
       "      <th>url</th>\n",
       "      <th>num_comments</th>\n",
       "      <th>score</th>\n",
       "    </tr>\n",
       "  </thead>\n",
       "  <tbody>\n",
       "    <tr>\n",
       "      <th>0</th>\n",
       "      <td>Any UW redditors want to meet up Thursday 10/2...</td>\n",
       "      <td>We failed on 10/22, but I think with a week of...</td>\n",
       "      <td>NaN</td>\n",
       "      <td>9y4hg</td>\n",
       "      <td>https://www.reddit.com/r/udub/comments/9y4hg/a...</td>\n",
       "      <td>6</td>\n",
       "      <td>4</td>\n",
       "    </tr>\n",
       "    <tr>\n",
       "      <th>1</th>\n",
       "      <td>We need a UW-ified logo.</td>\n",
       "      <td>If someone here has arcane skill in the graphi...</td>\n",
       "      <td>NaN</td>\n",
       "      <td>9ywtc</td>\n",
       "      <td>https://www.reddit.com/r/udub/comments/9ywtc/w...</td>\n",
       "      <td>2</td>\n",
       "      <td>3</td>\n",
       "    </tr>\n",
       "    <tr>\n",
       "      <th>2</th>\n",
       "      <td>Thursday bowling success!</td>\n",
       "      <td>[deleted]</td>\n",
       "      <td>NaN</td>\n",
       "      <td>9z66c</td>\n",
       "      <td>https://www.reddit.com/r/udub/comments/9z66c/t...</td>\n",
       "      <td>2</td>\n",
       "      <td>3</td>\n",
       "    </tr>\n",
       "    <tr>\n",
       "      <th>3</th>\n",
       "      <td>Next UW meetup: Thursday, 11/5 at 11:00am in t...</td>\n",
       "      <td>This time we will be playing ping pong followe...</td>\n",
       "      <td>NaN</td>\n",
       "      <td>a0ail</td>\n",
       "      <td>https://www.reddit.com/r/udub/comments/a0ail/n...</td>\n",
       "      <td>2</td>\n",
       "      <td>4</td>\n",
       "    </tr>\n",
       "    <tr>\n",
       "      <th>4</th>\n",
       "      <td>Next meetup: December 3rd. Need ideas</td>\n",
       "      <td>Alright, so who is up for a December 3rd meetu...</td>\n",
       "      <td>NaN</td>\n",
       "      <td>a9lq8</td>\n",
       "      <td>https://www.reddit.com/r/udub/comments/a9lq8/n...</td>\n",
       "      <td>7</td>\n",
       "      <td>2</td>\n",
       "    </tr>\n",
       "  </tbody>\n",
       "</table>\n",
       "</div>"
      ],
      "text/plain": [
       "                                               title  \\\n",
       "0  Any UW redditors want to meet up Thursday 10/2...   \n",
       "1                           We need a UW-ified logo.   \n",
       "2                          Thursday bowling success!   \n",
       "3  Next UW meetup: Thursday, 11/5 at 11:00am in t...   \n",
       "4              Next meetup: December 3rd. Need ideas   \n",
       "\n",
       "                                            selftext link_flair_text     id  \\\n",
       "0  We failed on 10/22, but I think with a week of...             NaN  9y4hg   \n",
       "1  If someone here has arcane skill in the graphi...             NaN  9ywtc   \n",
       "2                                          [deleted]             NaN  9z66c   \n",
       "3  This time we will be playing ping pong followe...             NaN  a0ail   \n",
       "4  Alright, so who is up for a December 3rd meetu...             NaN  a9lq8   \n",
       "\n",
       "                                                 url  num_comments  score  \n",
       "0  https://www.reddit.com/r/udub/comments/9y4hg/a...             6      4  \n",
       "1  https://www.reddit.com/r/udub/comments/9ywtc/w...             2      3  \n",
       "2  https://www.reddit.com/r/udub/comments/9z66c/t...             2      3  \n",
       "3  https://www.reddit.com/r/udub/comments/a0ail/n...             2      4  \n",
       "4  https://www.reddit.com/r/udub/comments/a9lq8/n...             7      2  "
      ]
     },
     "execution_count": 2,
     "metadata": {},
     "output_type": "execute_result"
    }
   ],
   "source": [
    "posts = pd.read_csv('r_udub_posts.csv')\n",
    "posts.head(5)"
   ]
  },
  {
   "cell_type": "code",
   "execution_count": 3,
   "metadata": {},
   "outputs": [
    {
     "data": {
      "text/plain": [
       "array([nan, 'PSA', 'Rant', 'Random', 'Meme', 'Question', 'Discussion',\n",
       "       'Academics', 'Student Life', 'Help', 'Event', 'Video',\n",
       "       'Admissions', 'Advice', 'Poll', 'poll', 'No unrelated posts'],\n",
       "      dtype=object)"
      ]
     },
     "execution_count": 3,
     "metadata": {},
     "output_type": "execute_result"
    }
   ],
   "source": [
    "posts['link_flair_text'].unique()"
   ]
  },
  {
   "cell_type": "markdown",
   "metadata": {},
   "source": [
    "# All Data"
   ]
  },
  {
   "cell_type": "code",
   "execution_count": 17,
   "metadata": {},
   "outputs": [
    {
     "data": {
      "text/plain": [
       "link_flair_text\n",
       "advice          2360\n",
       "academics       2100\n",
       "student life    1551\n",
       "admissions       977\n",
       "discussion       865\n",
       "poll             464\n",
       "rant             388\n",
       "psa              138\n",
       "event            128\n",
       "meme              60\n",
       "dtype: int64"
      ]
     },
     "execution_count": 17,
     "metadata": {},
     "output_type": "execute_result"
    }
   ],
   "source": [
    "posts['combined_text'] = posts['title'] + \" \" + posts['selftext'].fillna(\"\")\n",
    "flair_categories = [\"admissions\", \"academics\", \"student life\", \"advice\", \"discussion\", \"meme\", \"rant\", \"psa\", \"event\", \"poll\"]\n",
    "\n",
    "flairedNotSelf = posts[(posts['link_flair_text'].notnull()) & (posts['selftext'] != '[removed]') & (posts['selftext'] != '[deleted]') & posts['selftext'].notnull()]\n",
    "ModelDataLower = flairedNotSelf.apply(lambda col: col.str.lower() if col.dtype == 'object' else col)\n",
    "AllDataFilteredNoBody = ModelDataLower[ModelDataLower['link_flair_text'].isin(flair_categories)][['combined_text', 'link_flair_text']]\n",
    "\n",
    "AllDataFilteredNoBody.groupby('link_flair_text').size().sort_values(ascending=False)"
   ]
  },
  {
   "cell_type": "code",
   "execution_count": 16,
   "metadata": {},
   "outputs": [
    {
     "data": {
      "text/plain": [
       "link_flair_text\n",
       "advice          2468\n",
       "academics       2270\n",
       "student life    1870\n",
       "admissions      1051\n",
       "discussion      1030\n",
       "meme             522\n",
       "poll             471\n",
       "rant             434\n",
       "psa              260\n",
       "event            208\n",
       "dtype: int64"
      ]
     },
     "execution_count": 16,
     "metadata": {},
     "output_type": "execute_result"
    }
   ],
   "source": [
    "posts['combined_text'] = posts['title'] + \" \" + posts['selftext'].fillna(\"\")\n",
    "flair_categories = [\"admissions\", \"academics\", \"student life\", \"advice\", \"discussion\", \"meme\", \"rant\", \"psa\", \"event\", \"poll\"]\n",
    "\n",
    "flairedNotSelf = posts[(posts['link_flair_text'].notnull()) & (posts['selftext'] != '[removed]') & (posts['selftext'] != '[deleted]') ]\n",
    "ModelDataLower = flairedNotSelf.apply(lambda col: col.str.lower() if col.dtype == 'object' else col)\n",
    "AllDataFiltered = ModelDataLower[ModelDataLower['link_flair_text'].isin(flair_categories)][['combined_text', 'link_flair_text']]\n",
    "\n",
    "AllDataFiltered.groupby('link_flair_text').size().sort_values(ascending=False)"
   ]
  },
  {
   "cell_type": "markdown",
   "metadata": {},
   "source": [
    "# 1000 post minimum"
   ]
  },
  {
   "cell_type": "code",
   "execution_count": 34,
   "metadata": {},
   "outputs": [
    {
     "data": {
      "text/plain": [
       "link_flair_text\n",
       "advice          2360\n",
       "academics       2100\n",
       "student life    1551\n",
       "dtype: int64"
      ]
     },
     "execution_count": 34,
     "metadata": {},
     "output_type": "execute_result"
    }
   ],
   "source": [
    "min_threshold = 1000\n",
    "category_counts = AllDataFilteredNoBody.groupby('link_flair_text').size()\n",
    "categories_to_keep = category_counts[category_counts >= min_threshold].index\n",
    "df_Min_1000_NoBody = AllDataFilteredNoBody[AllDataFilteredNoBody['link_flair_text'].isin(categories_to_keep)]\n",
    "df_Min_1000_NoBody.groupby('link_flair_text').size().sort_values(ascending=False)"
   ]
  },
  {
   "cell_type": "code",
   "execution_count": 35,
   "metadata": {},
   "outputs": [
    {
     "data": {
      "text/plain": [
       "link_flair_text\n",
       "advice          2468\n",
       "academics       2270\n",
       "student life    1870\n",
       "admissions      1051\n",
       "discussion      1030\n",
       "dtype: int64"
      ]
     },
     "execution_count": 35,
     "metadata": {},
     "output_type": "execute_result"
    }
   ],
   "source": [
    "min_threshold = 1000\n",
    "category_counts = AllDataFiltered.groupby('link_flair_text').size()\n",
    "categories_to_keep = category_counts[category_counts >= min_threshold].index\n",
    "df_Min_1000_All = AllDataFiltered[AllDataFiltered['link_flair_text'].isin(categories_to_keep)]\n",
    "df_Min_1000_All.groupby('link_flair_text').size().sort_values(ascending=False)"
   ]
  },
  {
   "cell_type": "markdown",
   "metadata": {},
   "source": [
    "# 1000 post minimum balanced "
   ]
  },
  {
   "cell_type": "code",
   "execution_count": 36,
   "metadata": {},
   "outputs": [
    {
     "data": {
      "text/plain": [
       "link_flair_text\n",
       "academics       1000\n",
       "advice          1000\n",
       "student life    1000\n",
       "dtype: int64"
      ]
     },
     "execution_count": 36,
     "metadata": {},
     "output_type": "execute_result"
    }
   ],
   "source": [
    "min_threshold = 1000\n",
    "max_rows_per_category = 1000\n",
    "category_counts = AllDataFilteredNoBody.groupby('link_flair_text').size()\n",
    "categories_to_keep = category_counts[category_counts >= min_threshold].index\n",
    "df_1000_NoBody = AllDataFilteredNoBody[AllDataFilteredNoBody['link_flair_text'].isin(categories_to_keep)]\n",
    "for category in categories_to_keep:\n",
    "    if len(df_1000_NoBody[df_1000_NoBody['link_flair_text'] == category]) > max_rows_per_category:\n",
    "        df_1000_NoBody = df_1000_NoBody.drop(df_1000_NoBody[df_1000_NoBody['link_flair_text'] == category].sample(frac=1 - max_rows_per_category/len(df_1000_NoBody[df_1000_NoBody['link_flair_text'] == category]), random_state=1).index)\n",
    "\n",
    "df_1000_NoBody.groupby('link_flair_text').size().sort_values(ascending=False)"
   ]
  },
  {
   "cell_type": "code",
   "execution_count": 38,
   "metadata": {},
   "outputs": [
    {
     "data": {
      "text/plain": [
       "link_flair_text\n",
       "academics       1000\n",
       "admissions      1000\n",
       "advice          1000\n",
       "discussion      1000\n",
       "student life    1000\n",
       "dtype: int64"
      ]
     },
     "execution_count": 38,
     "metadata": {},
     "output_type": "execute_result"
    }
   ],
   "source": [
    "min_threshold = 1000\n",
    "max_rows_per_category = 1000\n",
    "category_counts = AllDataFiltered.groupby('link_flair_text').size()\n",
    "categories_to_keep = category_counts[category_counts >= min_threshold].index\n",
    "df_1000_All = AllDataFiltered[AllDataFiltered['link_flair_text'].isin(categories_to_keep)]\n",
    "for category in categories_to_keep:\n",
    "    if len(df_1000_All[df_1000_All['link_flair_text'] == category]) > max_rows_per_category:\n",
    "        df_1000_All = df_1000_All.drop(df_1000_All[df_1000_All['link_flair_text'] == category].sample(frac=1 - max_rows_per_category/len(df_1000_All[df_1000_All['link_flair_text'] == category]), random_state=1).index)\n",
    "\n",
    "df_1000_All.groupby('link_flair_text').size().sort_values(ascending=False)"
   ]
  },
  {
   "cell_type": "markdown",
   "metadata": {},
   "source": [
    "# 200 post minimum balanced"
   ]
  },
  {
   "cell_type": "code",
   "execution_count": 39,
   "metadata": {},
   "outputs": [
    {
     "data": {
      "text/plain": [
       "link_flair_text\n",
       "academics       200\n",
       "admissions      200\n",
       "advice          200\n",
       "discussion      200\n",
       "poll            200\n",
       "rant            200\n",
       "student life    200\n",
       "dtype: int64"
      ]
     },
     "execution_count": 39,
     "metadata": {},
     "output_type": "execute_result"
    }
   ],
   "source": [
    "min_threshold = 200\n",
    "max_rows_per_category = 200\n",
    "category_counts = AllDataFilteredNoBody.groupby('link_flair_text').size()\n",
    "categories_to_keep = category_counts[category_counts >= min_threshold].index\n",
    "df_200_NoBody = AllDataFilteredNoBody[AllDataFilteredNoBody['link_flair_text'].isin(categories_to_keep)]\n",
    "for category in categories_to_keep:\n",
    "    if len(df_200_NoBody[df_200_NoBody['link_flair_text'] == category]) > max_rows_per_category:\n",
    "        df_200_NoBody = df_200_NoBody.drop(df_200_NoBody[df_200_NoBody['link_flair_text'] == category].sample(frac=1 - max_rows_per_category/len(df_200_NoBody[df_200_NoBody['link_flair_text'] == category]), random_state=1).index)\n",
    "\n",
    "df_200_NoBody.groupby('link_flair_text').size().sort_values(ascending=False)"
   ]
  },
  {
   "cell_type": "code",
   "execution_count": 40,
   "metadata": {},
   "outputs": [
    {
     "data": {
      "text/plain": [
       "link_flair_text\n",
       "academics       200\n",
       "admissions      200\n",
       "advice          200\n",
       "discussion      200\n",
       "event           200\n",
       "meme            200\n",
       "poll            200\n",
       "psa             200\n",
       "rant            200\n",
       "student life    200\n",
       "dtype: int64"
      ]
     },
     "execution_count": 40,
     "metadata": {},
     "output_type": "execute_result"
    }
   ],
   "source": [
    "min_threshold = 200\n",
    "max_rows_per_category = 200\n",
    "category_counts = AllDataFiltered.groupby('link_flair_text').size()\n",
    "categories_to_keep = category_counts[category_counts >= min_threshold].index\n",
    "df_200_All = AllDataFiltered[AllDataFiltered['link_flair_text'].isin(categories_to_keep)]\n",
    "for category in categories_to_keep:\n",
    "    if len(df_200_All[df_200_All['link_flair_text'] == category]) > max_rows_per_category:\n",
    "        df_200_All = df_200_All.drop(df_200_All[df_200_All['link_flair_text'] == category].sample(frac=1 - max_rows_per_category/len(df_200_All[df_200_All['link_flair_text'] == category]), random_state=1).index)\n",
    "\n",
    "df_200_All.groupby('link_flair_text').size().sort_values(ascending=False)"
   ]
  },
  {
   "cell_type": "code",
   "execution_count": 41,
   "metadata": {},
   "outputs": [
    {
     "name": "stdout",
     "output_type": "stream",
     "text": [
      "DataFrame saved as CSV: AllDataFilteredNoBody.csv\n"
     ]
    }
   ],
   "source": [
    "csv_file_path = 'AllDataFilteredNoBody.csv'\n",
    "AllDataFilteredNoBody.to_csv(csv_file_path, index=False)\n",
    "print(\"DataFrame saved as CSV:\", csv_file_path) "
   ]
  },
  {
   "cell_type": "code",
   "execution_count": 42,
   "metadata": {},
   "outputs": [
    {
     "name": "stdout",
     "output_type": "stream",
     "text": [
      "DataFrame saved as CSV: AllDataFiltered.csv\n"
     ]
    }
   ],
   "source": [
    "csv_file_path = 'AllDataFiltered.csv'\n",
    "AllDataFiltered.to_csv(csv_file_path, index=False)\n",
    "print(\"DataFrame saved as CSV:\", csv_file_path) "
   ]
  },
  {
   "cell_type": "code",
   "execution_count": 43,
   "metadata": {},
   "outputs": [
    {
     "name": "stdout",
     "output_type": "stream",
     "text": [
      "DataFrame saved as CSV: df_Min_1000_NoBody.csv\n"
     ]
    }
   ],
   "source": [
    "csv_file_path = 'df_Min_1000_NoBody.csv'\n",
    "df_Min_1000_NoBody.to_csv(csv_file_path, index=False)\n",
    "print(\"DataFrame saved as CSV:\", csv_file_path) "
   ]
  },
  {
   "cell_type": "code",
   "execution_count": 44,
   "metadata": {},
   "outputs": [
    {
     "name": "stdout",
     "output_type": "stream",
     "text": [
      "DataFrame saved as CSV: df_Min_1000_All.csv\n"
     ]
    }
   ],
   "source": [
    "csv_file_path = 'df_Min_1000_All.csv'\n",
    "df_Min_1000_All.to_csv(csv_file_path, index=False)\n",
    "print(\"DataFrame saved as CSV:\", csv_file_path) "
   ]
  },
  {
   "cell_type": "code",
   "execution_count": 45,
   "metadata": {},
   "outputs": [
    {
     "name": "stdout",
     "output_type": "stream",
     "text": [
      "DataFrame saved as CSV: df_1000_NoBody.csv\n"
     ]
    }
   ],
   "source": [
    "csv_file_path = 'df_1000_NoBody.csv'\n",
    "df_1000_NoBody.to_csv(csv_file_path, index=False)\n",
    "print(\"DataFrame saved as CSV:\", csv_file_path) "
   ]
  },
  {
   "cell_type": "code",
   "execution_count": 46,
   "metadata": {},
   "outputs": [
    {
     "name": "stdout",
     "output_type": "stream",
     "text": [
      "DataFrame saved as CSV: df_1000_All.csv\n"
     ]
    }
   ],
   "source": [
    "csv_file_path = 'df_1000_All.csv'\n",
    "df_1000_All.to_csv(csv_file_path, index=False)\n",
    "print(\"DataFrame saved as CSV:\", csv_file_path) "
   ]
  },
  {
   "cell_type": "code",
   "execution_count": 47,
   "metadata": {},
   "outputs": [
    {
     "name": "stdout",
     "output_type": "stream",
     "text": [
      "DataFrame saved as CSV: df_200_NoBody.csv\n"
     ]
    }
   ],
   "source": [
    "csv_file_path = 'df_200_NoBody.csv'\n",
    "df_200_NoBody.to_csv(csv_file_path, index=False)\n",
    "print(\"DataFrame saved as CSV:\", csv_file_path) "
   ]
  },
  {
   "cell_type": "code",
   "execution_count": 48,
   "metadata": {},
   "outputs": [
    {
     "name": "stdout",
     "output_type": "stream",
     "text": [
      "DataFrame saved as CSV: df_200_All.csv\n"
     ]
    }
   ],
   "source": [
    "csv_file_path = 'df_200_All.csv'\n",
    "df_200_All.to_csv(csv_file_path, index=False)\n",
    "print(\"DataFrame saved as CSV:\", csv_file_path) "
   ]
  }
 ],
 "metadata": {
  "kernelspec": {
   "display_name": "INFO492",
   "language": "python",
   "name": "python3"
  },
  "language_info": {
   "codemirror_mode": {
    "name": "ipython",
    "version": 3
   },
   "file_extension": ".py",
   "mimetype": "text/x-python",
   "name": "python",
   "nbconvert_exporter": "python",
   "pygments_lexer": "ipython3",
   "version": "3.10.14"
  }
 },
 "nbformat": 4,
 "nbformat_minor": 2
}
