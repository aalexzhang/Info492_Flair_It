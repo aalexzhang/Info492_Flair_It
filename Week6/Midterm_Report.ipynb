{
 "cells": [
  {
   "cell_type": "markdown",
   "metadata": {},
   "source": [
    "# Flair-It Midterm Report\n",
    "\n",
    "### Tyler, Cade, Alex"
   ]
  },
  {
   "cell_type": "markdown",
   "metadata": {},
   "source": [
    "sdklavjklwenoiesnkvd"
   ]
  }
 ],
 "metadata": {
  "language_info": {
   "name": "python"
  }
 },
 "nbformat": 4,
 "nbformat_minor": 2
}
