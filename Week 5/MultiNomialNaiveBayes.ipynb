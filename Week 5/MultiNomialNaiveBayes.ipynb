{
 "cells": [
  {
   "cell_type": "code",
   "execution_count": 40,
   "metadata": {},
   "outputs": [],
   "source": [
    "import pandas as pd\n",
    "import matplotlib.pyplot as plt\n",
    "import seaborn as sns\n",
    "from sklearn.feature_extraction.text import TfidfVectorizer\n",
    "from sklearn.naive_bayes import MultinomialNB\n",
    "from sklearn.model_selection import train_test_split\n",
    "from sklearn.metrics import accuracy_score, classification_report\n",
    "from sklearn.model_selection import train_test_split"
   ]
  },
  {
   "cell_type": "code",
   "execution_count": 31,
   "metadata": {},
   "outputs": [],
   "source": [
    "posts = pd.read_csv('r_udub_posts.csv')"
   ]
  },
  {
   "cell_type": "code",
   "execution_count": 32,
   "metadata": {},
   "outputs": [
    {
     "data": {
      "text/html": [
       "<div>\n",
       "<style scoped>\n",
       "    .dataframe tbody tr th:only-of-type {\n",
       "        vertical-align: middle;\n",
       "    }\n",
       "\n",
       "    .dataframe tbody tr th {\n",
       "        vertical-align: top;\n",
       "    }\n",
       "\n",
       "    .dataframe thead th {\n",
       "        text-align: right;\n",
       "    }\n",
       "</style>\n",
       "<table border=\"1\" class=\"dataframe\">\n",
       "  <thead>\n",
       "    <tr style=\"text-align: right;\">\n",
       "      <th></th>\n",
       "      <th>title</th>\n",
       "      <th>selftext</th>\n",
       "      <th>link_flair_text</th>\n",
       "      <th>id</th>\n",
       "      <th>url</th>\n",
       "      <th>num_comments</th>\n",
       "      <th>score</th>\n",
       "    </tr>\n",
       "  </thead>\n",
       "  <tbody>\n",
       "    <tr>\n",
       "      <th>0</th>\n",
       "      <td>Any UW redditors want to meet up Thursday 10/2...</td>\n",
       "      <td>We failed on 10/22, but I think with a week of...</td>\n",
       "      <td>NaN</td>\n",
       "      <td>9y4hg</td>\n",
       "      <td>https://www.reddit.com/r/udub/comments/9y4hg/a...</td>\n",
       "      <td>6</td>\n",
       "      <td>4</td>\n",
       "    </tr>\n",
       "    <tr>\n",
       "      <th>1</th>\n",
       "      <td>We need a UW-ified logo.</td>\n",
       "      <td>If someone here has arcane skill in the graphi...</td>\n",
       "      <td>NaN</td>\n",
       "      <td>9ywtc</td>\n",
       "      <td>https://www.reddit.com/r/udub/comments/9ywtc/w...</td>\n",
       "      <td>2</td>\n",
       "      <td>3</td>\n",
       "    </tr>\n",
       "    <tr>\n",
       "      <th>2</th>\n",
       "      <td>Thursday bowling success!</td>\n",
       "      <td>[deleted]</td>\n",
       "      <td>NaN</td>\n",
       "      <td>9z66c</td>\n",
       "      <td>https://www.reddit.com/r/udub/comments/9z66c/t...</td>\n",
       "      <td>2</td>\n",
       "      <td>3</td>\n",
       "    </tr>\n",
       "    <tr>\n",
       "      <th>3</th>\n",
       "      <td>Next UW meetup: Thursday, 11/5 at 11:00am in t...</td>\n",
       "      <td>This time we will be playing ping pong followe...</td>\n",
       "      <td>NaN</td>\n",
       "      <td>a0ail</td>\n",
       "      <td>https://www.reddit.com/r/udub/comments/a0ail/n...</td>\n",
       "      <td>2</td>\n",
       "      <td>4</td>\n",
       "    </tr>\n",
       "    <tr>\n",
       "      <th>4</th>\n",
       "      <td>Next meetup: December 3rd. Need ideas</td>\n",
       "      <td>Alright, so who is up for a December 3rd meetu...</td>\n",
       "      <td>NaN</td>\n",
       "      <td>a9lq8</td>\n",
       "      <td>https://www.reddit.com/r/udub/comments/a9lq8/n...</td>\n",
       "      <td>7</td>\n",
       "      <td>2</td>\n",
       "    </tr>\n",
       "  </tbody>\n",
       "</table>\n",
       "</div>"
      ],
      "text/plain": [
       "                                               title  \\\n",
       "0  Any UW redditors want to meet up Thursday 10/2...   \n",
       "1                           We need a UW-ified logo.   \n",
       "2                          Thursday bowling success!   \n",
       "3  Next UW meetup: Thursday, 11/5 at 11:00am in t...   \n",
       "4              Next meetup: December 3rd. Need ideas   \n",
       "\n",
       "                                            selftext link_flair_text     id  \\\n",
       "0  We failed on 10/22, but I think with a week of...             NaN  9y4hg   \n",
       "1  If someone here has arcane skill in the graphi...             NaN  9ywtc   \n",
       "2                                          [deleted]             NaN  9z66c   \n",
       "3  This time we will be playing ping pong followe...             NaN  a0ail   \n",
       "4  Alright, so who is up for a December 3rd meetu...             NaN  a9lq8   \n",
       "\n",
       "                                                 url  num_comments  score  \n",
       "0  https://www.reddit.com/r/udub/comments/9y4hg/a...             6      4  \n",
       "1  https://www.reddit.com/r/udub/comments/9ywtc/w...             2      3  \n",
       "2  https://www.reddit.com/r/udub/comments/9z66c/t...             2      3  \n",
       "3  https://www.reddit.com/r/udub/comments/a0ail/n...             2      4  \n",
       "4  https://www.reddit.com/r/udub/comments/a9lq8/n...             7      2  "
      ]
     },
     "execution_count": 32,
     "metadata": {},
     "output_type": "execute_result"
    }
   ],
   "source": [
    "posts.head(5)"
   ]
  },
  {
   "cell_type": "code",
   "execution_count": 33,
   "metadata": {},
   "outputs": [
    {
     "data": {
      "text/plain": [
       "array([nan, 'PSA', 'Rant', 'Random', 'Meme', 'Question', 'Discussion',\n",
       "       'Academics', 'Student Life', 'Help', 'Event', 'Video',\n",
       "       'Admissions', 'Advice', 'Poll', 'poll', 'No unrelated posts'],\n",
       "      dtype=object)"
      ]
     },
     "execution_count": 33,
     "metadata": {},
     "output_type": "execute_result"
    }
   ],
   "source": [
    "posts['link_flair_text'].unique()"
   ]
  },
  {
   "cell_type": "code",
   "execution_count": 35,
   "metadata": {},
   "outputs": [
    {
     "data": {
      "text/html": [
       "<div>\n",
       "<style scoped>\n",
       "    .dataframe tbody tr th:only-of-type {\n",
       "        vertical-align: middle;\n",
       "    }\n",
       "\n",
       "    .dataframe tbody tr th {\n",
       "        vertical-align: top;\n",
       "    }\n",
       "\n",
       "    .dataframe thead th {\n",
       "        text-align: right;\n",
       "    }\n",
       "</style>\n",
       "<table border=\"1\" class=\"dataframe\">\n",
       "  <thead>\n",
       "    <tr style=\"text-align: right;\">\n",
       "      <th></th>\n",
       "      <th>selftext</th>\n",
       "      <th>link_flair_text</th>\n",
       "    </tr>\n",
       "  </thead>\n",
       "  <tbody>\n",
       "    <tr>\n",
       "      <th>28066</th>\n",
       "      <td>i have an emotional support animal and i have ...</td>\n",
       "      <td>discussion</td>\n",
       "    </tr>\n",
       "    <tr>\n",
       "      <th>28077</th>\n",
       "      <td>anyone has took or taking soc222(sociology of ...</td>\n",
       "      <td>academics</td>\n",
       "    </tr>\n",
       "    <tr>\n",
       "      <th>28080</th>\n",
       "      <td>does anyone have any insight into the final fo...</td>\n",
       "      <td>academics</td>\n",
       "    </tr>\n",
       "    <tr>\n",
       "      <th>28083</th>\n",
       "      <td>throwaway account, because i don't want to rev...</td>\n",
       "      <td>discussion</td>\n",
       "    </tr>\n",
       "    <tr>\n",
       "      <th>28088</th>\n",
       "      <td>i just registered for efs, i’m hoping to make ...</td>\n",
       "      <td>discussion</td>\n",
       "    </tr>\n",
       "  </tbody>\n",
       "</table>\n",
       "</div>"
      ],
      "text/plain": [
       "                                                selftext link_flair_text\n",
       "28066  i have an emotional support animal and i have ...      discussion\n",
       "28077  anyone has took or taking soc222(sociology of ...       academics\n",
       "28080  does anyone have any insight into the final fo...       academics\n",
       "28083  throwaway account, because i don't want to rev...      discussion\n",
       "28088  i just registered for efs, i’m hoping to make ...      discussion"
      ]
     },
     "execution_count": 35,
     "metadata": {},
     "output_type": "execute_result"
    }
   ],
   "source": [
    "\n",
    "flair_categories = [\"admissions\", \"academics\", \"student life\", \"advice\", \"discussion\", \"meme\", \"rant\", \"psa\", \"event\", \"poll\"]\n",
    "\n",
    "flairedNotSelf = posts[(posts['link_flair_text'].notnull()) & (posts['selftext'] != '[removed]') & (posts['selftext'] != '[deleted]') & posts['selftext'].notnull()]\n",
    "ModelDataLower = flairedNotSelf.apply(lambda col: col.str.lower() if col.dtype == 'object' else col)\n",
    "ModelDataFiltered = ModelDataLower[ModelDataLower['link_flair_text'].isin(flair_categories)][['selftext', 'link_flair_text']]\n",
    "\n",
    "ModelDataFiltered.head()"
   ]
  },
  {
   "cell_type": "code",
   "execution_count": 44,
   "metadata": {},
   "outputs": [
    {
     "name": "stdout",
     "output_type": "stream",
     "text": [
      "7224\n",
      "1807\n",
      "7224\n",
      "1807\n"
     ]
    }
   ],
   "source": [
    "X_train, X_test, y_train, y_test = train_test_split(ModelDataFiltered['selftext'], ModelDataFiltered['link_flair_text'], test_size=0.2, random_state=42)\n",
    "\n",
    "print(len(X_train))\n",
    "print(len(X_test))\n",
    "print(len(y_train))\n",
    "print(len(y_test))"
   ]
  },
  {
   "cell_type": "code",
   "execution_count": 45,
   "metadata": {},
   "outputs": [],
   "source": [
    "tfidf_vectorizer = TfidfVectorizer()\n",
    "X_train = tfidf_vectorizer.fit_transform(X_train)\n",
    "X_test = tfidf_vectorizer.transform(X_test)"
   ]
  },
  {
   "cell_type": "code",
   "execution_count": 48,
   "metadata": {},
   "outputs": [
    {
     "name": "stdout",
     "output_type": "stream",
     "text": [
      "Accuracy: 0.3857221914775872\n"
     ]
    }
   ],
   "source": [
    "clf = MultinomialNB()\n",
    "clf.fit(X_train, y_train)\n",
    "\n",
    "y_pred = clf.predict(X_test)\n",
    "\n",
    "accuracy = accuracy_score(y_test, y_pred)\n",
    "\n",
    "print(\"Accuracy:\", accuracy)\n"
   ]
  }
 ],
 "metadata": {
  "kernelspec": {
   "display_name": "INFO492",
   "language": "python",
   "name": "python3"
  },
  "language_info": {
   "codemirror_mode": {
    "name": "ipython",
    "version": 3
   },
   "file_extension": ".py",
   "mimetype": "text/x-python",
   "name": "python",
   "nbconvert_exporter": "python",
   "pygments_lexer": "ipython3",
   "version": "3.10.14"
  }
 },
 "nbformat": 4,
 "nbformat_minor": 2
}
