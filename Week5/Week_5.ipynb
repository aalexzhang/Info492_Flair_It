{
 "cells": [
  {
   "cell_type": "markdown",
   "metadata": {},
   "source": [
    "# Flair-It Week 5\n",
    "\n",
    "#### Cade, Tyler, Alex"
   ]
  },
  {
   "cell_type": "markdown",
   "metadata": {},
   "source": [
    "## Data Collection"
   ]
  },
  {
   "cell_type": "code",
   "execution_count": 1,
   "metadata": {},
   "outputs": [],
   "source": [
    "import pandas as pd\n",
    "import matplotlib.pyplot as plt\n",
    "import seaborn as sns"
   ]
  },
  {
   "cell_type": "code",
   "execution_count": 2,
   "metadata": {},
   "outputs": [],
   "source": [
    "posts = pd.read_csv('r_udub_posts.csv')"
   ]
  },
  {
   "cell_type": "code",
   "execution_count": 3,
   "metadata": {},
   "outputs": [
    {
     "data": {
      "text/html": [
       "<div>\n",
       "<style scoped>\n",
       "    .dataframe tbody tr th:only-of-type {\n",
       "        vertical-align: middle;\n",
       "    }\n",
       "\n",
       "    .dataframe tbody tr th {\n",
       "        vertical-align: top;\n",
       "    }\n",
       "\n",
       "    .dataframe thead th {\n",
       "        text-align: right;\n",
       "    }\n",
       "</style>\n",
       "<table border=\"1\" class=\"dataframe\">\n",
       "  <thead>\n",
       "    <tr style=\"text-align: right;\">\n",
       "      <th></th>\n",
       "      <th>title</th>\n",
       "      <th>selftext</th>\n",
       "      <th>link_flair_text</th>\n",
       "      <th>id</th>\n",
       "      <th>url</th>\n",
       "      <th>num_comments</th>\n",
       "      <th>score</th>\n",
       "    </tr>\n",
       "  </thead>\n",
       "  <tbody>\n",
       "    <tr>\n",
       "      <th>0</th>\n",
       "      <td>Any UW redditors want to meet up Thursday 10/2...</td>\n",
       "      <td>We failed on 10/22, but I think with a week of...</td>\n",
       "      <td>NaN</td>\n",
       "      <td>9y4hg</td>\n",
       "      <td>https://www.reddit.com/r/udub/comments/9y4hg/a...</td>\n",
       "      <td>6</td>\n",
       "      <td>4</td>\n",
       "    </tr>\n",
       "    <tr>\n",
       "      <th>1</th>\n",
       "      <td>We need a UW-ified logo.</td>\n",
       "      <td>If someone here has arcane skill in the graphi...</td>\n",
       "      <td>NaN</td>\n",
       "      <td>9ywtc</td>\n",
       "      <td>https://www.reddit.com/r/udub/comments/9ywtc/w...</td>\n",
       "      <td>2</td>\n",
       "      <td>3</td>\n",
       "    </tr>\n",
       "    <tr>\n",
       "      <th>2</th>\n",
       "      <td>Thursday bowling success!</td>\n",
       "      <td>[deleted]</td>\n",
       "      <td>NaN</td>\n",
       "      <td>9z66c</td>\n",
       "      <td>https://www.reddit.com/r/udub/comments/9z66c/t...</td>\n",
       "      <td>2</td>\n",
       "      <td>3</td>\n",
       "    </tr>\n",
       "    <tr>\n",
       "      <th>3</th>\n",
       "      <td>Next UW meetup: Thursday, 11/5 at 11:00am in t...</td>\n",
       "      <td>This time we will be playing ping pong followe...</td>\n",
       "      <td>NaN</td>\n",
       "      <td>a0ail</td>\n",
       "      <td>https://www.reddit.com/r/udub/comments/a0ail/n...</td>\n",
       "      <td>2</td>\n",
       "      <td>4</td>\n",
       "    </tr>\n",
       "    <tr>\n",
       "      <th>4</th>\n",
       "      <td>Next meetup: December 3rd. Need ideas</td>\n",
       "      <td>Alright, so who is up for a December 3rd meetu...</td>\n",
       "      <td>NaN</td>\n",
       "      <td>a9lq8</td>\n",
       "      <td>https://www.reddit.com/r/udub/comments/a9lq8/n...</td>\n",
       "      <td>7</td>\n",
       "      <td>2</td>\n",
       "    </tr>\n",
       "  </tbody>\n",
       "</table>\n",
       "</div>"
      ],
      "text/plain": [
       "                                               title  \\\n",
       "0  Any UW redditors want to meet up Thursday 10/2...   \n",
       "1                           We need a UW-ified logo.   \n",
       "2                          Thursday bowling success!   \n",
       "3  Next UW meetup: Thursday, 11/5 at 11:00am in t...   \n",
       "4              Next meetup: December 3rd. Need ideas   \n",
       "\n",
       "                                            selftext link_flair_text     id  \\\n",
       "0  We failed on 10/22, but I think with a week of...             NaN  9y4hg   \n",
       "1  If someone here has arcane skill in the graphi...             NaN  9ywtc   \n",
       "2                                          [deleted]             NaN  9z66c   \n",
       "3  This time we will be playing ping pong followe...             NaN  a0ail   \n",
       "4  Alright, so who is up for a December 3rd meetu...             NaN  a9lq8   \n",
       "\n",
       "                                                 url  num_comments  score  \n",
       "0  https://www.reddit.com/r/udub/comments/9y4hg/a...             6      4  \n",
       "1  https://www.reddit.com/r/udub/comments/9ywtc/w...             2      3  \n",
       "2  https://www.reddit.com/r/udub/comments/9z66c/t...             2      3  \n",
       "3  https://www.reddit.com/r/udub/comments/a0ail/n...             2      4  \n",
       "4  https://www.reddit.com/r/udub/comments/a9lq8/n...             7      2  "
      ]
     },
     "execution_count": 3,
     "metadata": {},
     "output_type": "execute_result"
    }
   ],
   "source": [
    "posts.head(5)"
   ]
  },
  {
   "cell_type": "code",
   "execution_count": 4,
   "metadata": {},
   "outputs": [
    {
     "data": {
      "text/plain": [
       "(60236, 14872)"
      ]
     },
     "execution_count": 4,
     "metadata": {},
     "output_type": "execute_result"
    }
   ],
   "source": [
    "nonFlaired = posts[posts['link_flair_text'].isnull()]\n",
    "flaired = posts[posts['link_flair_text'].notnull()]\n",
    "len(nonFlaired), len(flaired)  "
   ]
  },
  {
   "cell_type": "code",
   "execution_count": 5,
   "metadata": {},
   "outputs": [
    {
     "data": {
      "text/plain": [
       "9041"
      ]
     },
     "execution_count": 5,
     "metadata": {},
     "output_type": "execute_result"
    }
   ],
   "source": [
    "flairedNotSelf = posts[(posts['link_flair_text'].notnull()) & (posts['selftext'] != '[removed]') & (posts['selftext'] != '[deleted]') & posts['selftext'].notnull()]\n",
    "len(flairedNotSelf)"
   ]
  },
  {
   "cell_type": "code",
   "execution_count": 6,
   "metadata": {},
   "outputs": [
    {
     "data": {
      "text/plain": [
       "(39.59539873907754, 419.07908417210484)"
      ]
     },
     "execution_count": 6,
     "metadata": {},
     "output_type": "execute_result"
    }
   ],
   "source": [
    "averageTitleLength = flairedNotSelf['title'].apply(lambda x: len(x)).mean()\n",
    "averageBodyLength = flairedNotSelf['selftext'].apply(lambda x: len(x)).mean()\n",
    "averageTitleLength, averageBodyLength"
   ]
  },
  {
   "cell_type": "code",
   "execution_count": 7,
   "metadata": {},
   "outputs": [],
   "source": [
    "posts = pd.read_csv('r_udub_posts_filtered.csv')\n",
    "posts['bodyTitle'] = posts['title'] + \" \" + posts['selftext'].fillna(\"\")\n",
    "posts.to_csv('r_udub_posts_filtered.csv', index=False)"
   ]
  },
  {
   "cell_type": "code",
   "execution_count": null,
   "metadata": {},
   "outputs": [],
   "source": []
  }
 ],
 "metadata": {
  "kernelspec": {
   "display_name": "Python 3",
   "language": "python",
   "name": "python3"
  },
  "language_info": {
   "codemirror_mode": {
    "name": "ipython",
    "version": 3
   },
   "file_extension": ".py",
   "mimetype": "text/x-python",
   "name": "python",
   "nbconvert_exporter": "python",
   "pygments_lexer": "ipython3",
   "version": "3.9.7"
  }
 },
 "nbformat": 4,
 "nbformat_minor": 2
}
