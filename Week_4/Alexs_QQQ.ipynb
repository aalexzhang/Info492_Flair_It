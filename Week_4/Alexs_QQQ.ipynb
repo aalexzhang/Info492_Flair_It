{
 "cells": [
  {
   "cell_type": "code",
   "execution_count": 3,
   "metadata": {},
   "outputs": [],
   "source": [
    "import praw\n",
    "import pandas as pd\n",
    "import matplotlib.pyplot as plt\n",
    "import seaborn as sns\n",
    "\n",
    "reddit = praw.Reddit(\n",
    "    # client_id=\"ClientID\",\n",
    "    # client_secret=\"API Key\",\n",
    "    # user_agent=\"Username\",\n",
    "    \n",
    ")\n",
    "\n",
    "subreddit = reddit.subreddit(\"udub\")\n",
    "\n",
    "count = 0\n",
    "new = []\n",
    "hot = []\n",
    "top = []\n",
    "rising = []\n",
    "controversial = []"
   ]
  },
  {
   "cell_type": "code",
   "execution_count": 4,
   "metadata": {},
   "outputs": [],
   "source": [
    "new = []\n",
    "for submission in subreddit.new(limit=None):\n",
    "    new.append([submission.id, submission.title, submission.selftext, submission.link_flair_text, submission.url])\n",
    "\n",
    "df_new = pd.DataFrame(new, columns=['ID', 'Title', 'Text', 'Flair', 'URL'])"
   ]
  },
  {
   "cell_type": "code",
   "execution_count": 5,
   "metadata": {},
   "outputs": [],
   "source": [
    "hot = []\n",
    "for submission in subreddit.hot(limit=None):\n",
    "    hot.append([submission.id, submission.title, submission.selftext, submission.link_flair_text, submission.url])\n",
    "\n",
    "df_hot = pd.DataFrame(hot, columns=['ID', 'Title', 'Text', 'Flair', 'URL'])"
   ]
  },
  {
   "cell_type": "code",
   "execution_count": 6,
   "metadata": {},
   "outputs": [],
   "source": [
    "top = []\n",
    "for submission in subreddit.top(limit=None):\n",
    "    top.append([submission.id, submission.title, submission.selftext, submission.link_flair_text, submission.url])\n",
    "\n",
    "df_top = pd.DataFrame(top, columns=['ID', 'Title', 'Text', 'Flair', 'URL'])"
   ]
  },
  {
   "cell_type": "code",
   "execution_count": 7,
   "metadata": {},
   "outputs": [],
   "source": [
    "rising = []\n",
    "for submission in subreddit.rising(limit=None):\n",
    "    rising.append([submission.id, submission.title, submission.selftext, submission.link_flair_text, submission.url])\n",
    "\n",
    "df_rising = pd.DataFrame(rising, columns=['ID', 'Title', 'Text', 'Flair', 'URL'])"
   ]
  },
  {
   "cell_type": "code",
   "execution_count": 8,
   "metadata": {},
   "outputs": [],
   "source": [
    "controversial = []\n",
    "for submission in subreddit.controversial(limit=None):\n",
    "    controversial.append([submission.id, submission.title, submission.selftext, submission.link_flair_text, submission.url])\n",
    "\n",
    "df_controversial = pd.DataFrame(controversial, columns=['ID', 'Title', 'Text', 'Flair', 'URL'])"
   ]
  },
  {
   "cell_type": "code",
   "execution_count": 9,
   "metadata": {},
   "outputs": [
    {
     "data": {
      "text/plain": [
       "(2909, 5)"
      ]
     },
     "execution_count": 9,
     "metadata": {},
     "output_type": "execute_result"
    }
   ],
   "source": [
    "df_all = pd.concat([df_new, df_hot, df_top, df_rising, df_controversial])\n",
    "df_all = df_all.drop_duplicates(subset='ID')\n",
    "\n",
    "df_all.shape"
   ]
  },
  {
   "cell_type": "code",
   "execution_count": null,
   "metadata": {},
   "outputs": [],
   "source": [
    "import pandas as pd\n",
    "import matplotlib.pyplot as plt\n",
    "import seaborn as sns\n",
    "\n",
    "df_new = pd.read_csv(\"df_new.csv\")\n",
    "df_controversial = pd.read_csv(\"df_controversial.csv\")\n",
    "df_hot = pd.read_csv(\"df_hot.csv\")\n",
    "df_rising = pd.read_csv(\"df_rising.csv\")\n",
    "df_top = pd.read_csv(\"df_top.csv\")\n",
    "\n",
    "# Combine all dataframes\n",
    "df_new['Category'] = 'new'\n",
    "df_hot['Category'] = 'hot'\n",
    "df_top['Category'] = 'top'\n",
    "df_rising['Category'] = 'rising'\n",
    "df_controversial['Category'] = 'controversial'\n",
    "\n",
    "df_all = pd.concat([df_new, df_hot, df_top, df_rising, df_controversial])\n",
    "df_all = df_all.drop_duplicates(subset='ID')\n",
    "\n",
    "df_all.to_csv('df_all.csv')\n",
    "\n",
    "df_all\n"
   ]
  },
  {
   "cell_type": "markdown",
   "metadata": {},
   "source": [
    "# Among the entire dataset of posts, how frequently are they flaired?"
   ]
  },
  {
   "cell_type": "markdown",
   "metadata": {},
   "source": [
    "Given our preliminary data analysis on a small subset of our data, we expect the split of non-flaired posts to flaired posts to be about 60-40 percent."
   ]
  },
  {
   "cell_type": "markdown",
   "metadata": {},
   "source": [
    "### How can we isolate the flaired and non-flaired posts?\n",
    "\n",
    "Flaired posts are split up into 10 different flairs on r/udub, and can be tedious to filter through. However, non-flaired posts do not have a value in the 'Flair' column, so we can split up the two categories with isnull() and notnull()."
   ]
  },
  {
   "cell_type": "code",
   "execution_count": 10,
   "metadata": {},
   "outputs": [
    {
     "data": {
      "text/html": [
       "<div>\n",
       "<style scoped>\n",
       "    .dataframe tbody tr th:only-of-type {\n",
       "        vertical-align: middle;\n",
       "    }\n",
       "\n",
       "    .dataframe tbody tr th {\n",
       "        vertical-align: top;\n",
       "    }\n",
       "\n",
       "    .dataframe thead th {\n",
       "        text-align: right;\n",
       "    }\n",
       "</style>\n",
       "<table border=\"1\" class=\"dataframe\">\n",
       "  <thead>\n",
       "    <tr style=\"text-align: right;\">\n",
       "      <th></th>\n",
       "      <th>ID</th>\n",
       "      <th>Title</th>\n",
       "      <th>Text</th>\n",
       "      <th>Flair</th>\n",
       "      <th>URL</th>\n",
       "    </tr>\n",
       "  </thead>\n",
       "  <tbody>\n",
       "    <tr>\n",
       "      <th>0</th>\n",
       "      <td>1casokh</td>\n",
       "      <td>uw acad</td>\n",
       "      <td>hello! i recently got accepted into the uw aca...</td>\n",
       "      <td>None</td>\n",
       "      <td>https://www.reddit.com/r/udub/comments/1casokh...</td>\n",
       "    </tr>\n",
       "    <tr>\n",
       "      <th>1</th>\n",
       "      <td>1card8x</td>\n",
       "      <td>Police suggest UW athletics staff knew about, ...</td>\n",
       "      <td></td>\n",
       "      <td>None</td>\n",
       "      <td>https://www.union-bulletin.com/sports/college_...</td>\n",
       "    </tr>\n",
       "    <tr>\n",
       "      <th>2</th>\n",
       "      <td>1caqd65</td>\n",
       "      <td>Do people use bots to enroll in classes?</td>\n",
       "      <td>I am on notification for a class thats full an...</td>\n",
       "      <td>None</td>\n",
       "      <td>https://www.reddit.com/r/udub/comments/1caqd65...</td>\n",
       "    </tr>\n",
       "    <tr>\n",
       "      <th>4</th>\n",
       "      <td>1cancft</td>\n",
       "      <td>Brotherhood Initiative?</td>\n",
       "      <td>I just got an email asking if I want to join t...</td>\n",
       "      <td>None</td>\n",
       "      <td>https://www.reddit.com/r/udub/comments/1cancft...</td>\n",
       "    </tr>\n",
       "    <tr>\n",
       "      <th>6</th>\n",
       "      <td>1cakz46</td>\n",
       "      <td>UWPD Presence on 15th Ave?</td>\n",
       "      <td>Around 12:30pm today there were three or four ...</td>\n",
       "      <td>None</td>\n",
       "      <td>https://www.reddit.com/r/udub/comments/1cakz46...</td>\n",
       "    </tr>\n",
       "  </tbody>\n",
       "</table>\n",
       "</div>"
      ],
      "text/plain": [
       "        ID                                              Title  \\\n",
       "0  1casokh                                            uw acad   \n",
       "1  1card8x  Police suggest UW athletics staff knew about, ...   \n",
       "2  1caqd65           Do people use bots to enroll in classes?   \n",
       "4  1cancft                            Brotherhood Initiative?   \n",
       "6  1cakz46                         UWPD Presence on 15th Ave?   \n",
       "\n",
       "                                                Text Flair  \\\n",
       "0  hello! i recently got accepted into the uw aca...  None   \n",
       "1                                                     None   \n",
       "2  I am on notification for a class thats full an...  None   \n",
       "4  I just got an email asking if I want to join t...  None   \n",
       "6  Around 12:30pm today there were three or four ...  None   \n",
       "\n",
       "                                                 URL  \n",
       "0  https://www.reddit.com/r/udub/comments/1casokh...  \n",
       "1  https://www.union-bulletin.com/sports/college_...  \n",
       "2  https://www.reddit.com/r/udub/comments/1caqd65...  \n",
       "4  https://www.reddit.com/r/udub/comments/1cancft...  \n",
       "6  https://www.reddit.com/r/udub/comments/1cakz46...  "
      ]
     },
     "execution_count": 10,
     "metadata": {},
     "output_type": "execute_result"
    }
   ],
   "source": [
    "no_flair = df_all[df_all['Flair'].isnull()]\n",
    "flair = df_all[df_all['Flair'].notnull()]\n",
    "\n",
    "no_flair.head(5)"
   ]
  },
  {
   "cell_type": "code",
   "execution_count": 11,
   "metadata": {},
   "outputs": [
    {
     "data": {
      "text/html": [
       "<div>\n",
       "<style scoped>\n",
       "    .dataframe tbody tr th:only-of-type {\n",
       "        vertical-align: middle;\n",
       "    }\n",
       "\n",
       "    .dataframe tbody tr th {\n",
       "        vertical-align: top;\n",
       "    }\n",
       "\n",
       "    .dataframe thead th {\n",
       "        text-align: right;\n",
       "    }\n",
       "</style>\n",
       "<table border=\"1\" class=\"dataframe\">\n",
       "  <thead>\n",
       "    <tr style=\"text-align: right;\">\n",
       "      <th></th>\n",
       "      <th>ID</th>\n",
       "      <th>Title</th>\n",
       "      <th>Text</th>\n",
       "      <th>Flair</th>\n",
       "      <th>URL</th>\n",
       "    </tr>\n",
       "  </thead>\n",
       "  <tbody>\n",
       "    <tr>\n",
       "      <th>3</th>\n",
       "      <td>1caq03d</td>\n",
       "      <td>I messed up (Phys123)</td>\n",
       "      <td>I'm a first-year student but got into UW havin...</td>\n",
       "      <td>Advice</td>\n",
       "      <td>https://www.reddit.com/r/udub/comments/1caq03d...</td>\n",
       "    </tr>\n",
       "    <tr>\n",
       "      <th>5</th>\n",
       "      <td>1calq9z</td>\n",
       "      <td>Non-DTC engineering major placement confusion</td>\n",
       "      <td>I've always sort of understood from people I'v...</td>\n",
       "      <td>Discussion</td>\n",
       "      <td>https://www.reddit.com/r/udub/comments/1calq9z...</td>\n",
       "    </tr>\n",
       "    <tr>\n",
       "      <th>11</th>\n",
       "      <td>1cafobd</td>\n",
       "      <td>Demand remains high for the UW Food Pantry</td>\n",
       "      <td></td>\n",
       "      <td>Student Life</td>\n",
       "      <td>https://www.dailyuw.com/news/demand-remains-hi...</td>\n",
       "    </tr>\n",
       "    <tr>\n",
       "      <th>13</th>\n",
       "      <td>1cadt9j</td>\n",
       "      <td>anybody need summer housing?</td>\n",
       "      <td>Hello everyone,\\n\\nI'm looking to sublease my ...</td>\n",
       "      <td>Discussion</td>\n",
       "      <td>https://www.reddit.com/r/udub/comments/1cadt9j...</td>\n",
       "    </tr>\n",
       "    <tr>\n",
       "      <th>16</th>\n",
       "      <td>1ca1l85</td>\n",
       "      <td>Are you or do you know of a UW student who tra...</td>\n",
       "      <td>\\n\\n[View Poll](https://www.reddit.com/poll/1c...</td>\n",
       "      <td>Poll</td>\n",
       "      <td>https://www.reddit.com/r/udub/comments/1ca1l85...</td>\n",
       "    </tr>\n",
       "  </tbody>\n",
       "</table>\n",
       "</div>"
      ],
      "text/plain": [
       "         ID                                              Title  \\\n",
       "3   1caq03d                              I messed up (Phys123)   \n",
       "5   1calq9z      Non-DTC engineering major placement confusion   \n",
       "11  1cafobd        Demand remains high for the UW Food Pantry    \n",
       "13  1cadt9j                       anybody need summer housing?   \n",
       "16  1ca1l85  Are you or do you know of a UW student who tra...   \n",
       "\n",
       "                                                 Text         Flair  \\\n",
       "3   I'm a first-year student but got into UW havin...        Advice   \n",
       "5   I've always sort of understood from people I'v...    Discussion   \n",
       "11                                                     Student Life   \n",
       "13  Hello everyone,\\n\\nI'm looking to sublease my ...    Discussion   \n",
       "16  \\n\\n[View Poll](https://www.reddit.com/poll/1c...          Poll   \n",
       "\n",
       "                                                  URL  \n",
       "3   https://www.reddit.com/r/udub/comments/1caq03d...  \n",
       "5   https://www.reddit.com/r/udub/comments/1calq9z...  \n",
       "11  https://www.dailyuw.com/news/demand-remains-hi...  \n",
       "13  https://www.reddit.com/r/udub/comments/1cadt9j...  \n",
       "16  https://www.reddit.com/r/udub/comments/1ca1l85...  "
      ]
     },
     "execution_count": 11,
     "metadata": {},
     "output_type": "execute_result"
    }
   ],
   "source": [
    "flair.head(5)"
   ]
  },
  {
   "cell_type": "code",
   "execution_count": 12,
   "metadata": {},
   "outputs": [
    {
     "data": {
      "text/plain": [
       "(2019, 890)"
      ]
     },
     "execution_count": 12,
     "metadata": {},
     "output_type": "execute_result"
    }
   ],
   "source": [
    "num_no_flair = len(no_flair)\n",
    "num_flair = len(flair)\n",
    "\n",
    "num_no_flair, num_flair"
   ]
  },
  {
   "cell_type": "code",
   "execution_count": 13,
   "metadata": {},
   "outputs": [
    {
     "data": {
      "text/plain": [
       "(69.40529391543485, 30.594706084565143)"
      ]
     },
     "execution_count": 13,
     "metadata": {},
     "output_type": "execute_result"
    }
   ],
   "source": [
    "num_no_flair * 100 / len(df_all), num_flair * 100 / len(df_all)"
   ]
  },
  {
   "cell_type": "markdown",
   "metadata": {},
   "source": [
    "Getting the values of flaired to non-flaired posts, we can see that the ratio of non-flaired posts to flaired posts is about a 70-30 percent split."
   ]
  },
  {
   "cell_type": "code",
   "execution_count": 14,
   "metadata": {},
   "outputs": [
    {
     "data": {
      "image/png": "[encoded data removed]",
      "text/plain": [
       "<Figure size 640x480 with 1 Axes>"
      ]
     },
     "metadata": {},
     "output_type": "display_data"
    }
   ],
   "source": [
    "_ = plt.bar(['No Flair', 'Flair'], [num_no_flair, num_flair])\n",
    "for bar in _:\n",
    "    yval = bar.get_height()\n",
    "    plt.text(bar.get_x() + bar.get_width()/2, yval + 0.05, yval, ha='center', va='bottom')\n",
    "_ = plt.xlabel('Flair Status')\n",
    "_ = plt.ylabel('Number of Posts')\n",
    "_ = plt.title('Number of Posts with Flair vs. No Flair')"
   ]
  },
  {
   "cell_type": "markdown",
   "metadata": {},
   "source": [
    "Graphing the ratio allows us to visualize the split, as well as put the percentages into context with the number of total posts per bar."
   ]
  },
  {
   "cell_type": "markdown",
   "metadata": {},
   "source": [
    "The 70-30 split differs from our initial hypothesis of a 60-40 split. Because we expanded our analysis from a small subset to posts from five different data categories, additional research needs to be done to identify flaired and non-flaired post trends within all of these categories.\n",
    "\n",
    "We acknowledge that because of the nature of the Reddit API and of the categories themselves, the number of posts in each category differs, and this has an impact on the ratio of flaired to non-flaired posts."
   ]
  },
  {
   "cell_type": "code",
   "execution_count": 15,
   "metadata": {},
   "outputs": [],
   "source": [
    "# grouped = df_all.groupby('Flair')\n",
    "\n",
    "# for flair, data in grouped:\n",
    "#     globals()[f'df_{flair}'] = data\n",
    "\n",
    "# df_Advice.head(5)"
   ]
  },
  {
   "cell_type": "code",
   "execution_count": 16,
   "metadata": {},
   "outputs": [
    {
     "data": {
      "image/png": "[encoded data removed]",
      "text/plain": [
       "<Figure size 640x480 with 1 Axes>"
      ]
     },
     "metadata": {},
     "output_type": "display_data"
    }
   ],
   "source": [
    "df_all[\"Text Length\"] = df_all[\"Text\"].apply(len)\n",
    "average_text_length = df_all.groupby('Flair')[\"Text Length\"].mean().sort_values(ascending=False)\n",
    "_ = plt.bar(average_text_length.index, average_text_length)\n",
    "_ = plt.xlabel('Flair')\n",
    "_ = plt.ylabel('Average Text Length')\n",
    "_ = plt.title('Average Text Length by Flair')\n",
    "_ = plt.xticks(rotation=90)"
   ]
  },
  {
   "cell_type": "code",
   "execution_count": null,
   "metadata": {},
   "outputs": [],
   "source": []
  }
 ],
 "metadata": {
  "kernelspec": {
   "display_name": "Python 3",
   "language": "python",
   "name": "python3"
  },
  "language_info": {
   "codemirror_mode": {
    "name": "ipython",
    "version": 3
   },
   "file_extension": ".py",
   "mimetype": "text/x-python",
   "name": "python",
   "nbconvert_exporter": "python",
   "pygments_lexer": "ipython3",
   "version": "3.12.3"
  }
 },
 "nbformat": 4,
 "nbformat_minor": 2
}
